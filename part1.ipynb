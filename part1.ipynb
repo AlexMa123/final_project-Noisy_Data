{
 "cells": [
  {
   "cell_type": "code",
   "execution_count": 1,
   "metadata": {},
   "outputs": [],
   "source": [
    "import torch\r\n",
    "from torch import nn\r\n",
    "from scipy.io import loadmat\r\n",
    "import numpy as np\r\n",
    "import matplotlib.pyplot as plt\r\n",
    "\r\n",
    "from tools.plots import plot_samples\r\n",
    "%load_ext autoreload\r\n",
    "%autoreload 2"
   ]
  },
  {
   "cell_type": "code",
   "execution_count": 8,
   "metadata": {},
   "outputs": [
    {
     "data": {
      "text/plain": [
       "'cuda'"
      ]
     },
     "execution_count": 8,
     "metadata": {},
     "output_type": "execute_result"
    }
   ],
   "source": [
    "device = 'cuda' if torch.cuda.is_available() else 'cpu'\r\n",
    "device"
   ]
  },
  {
   "cell_type": "markdown",
   "metadata": {},
   "source": [
    "# Load Dataset"
   ]
  },
  {
   "cell_type": "code",
   "execution_count": 4,
   "metadata": {},
   "outputs": [
    {
     "data": {
      "image/png": "[encoded data removed]",
      "text/plain": [
       "<Figure size 720x432 with 5 Axes>"
      ]
     },
     "metadata": {},
     "output_type": "display_data"
    }
   ],
   "source": [
    "dataset = loadmat(\"trg1.mat\")\r\n",
    "X, Y = dataset['X'], dataset['y']\r\n",
    "X = torch.Tensor(X)\r\n",
    "Y = torch.Tensor(Y)\r\n",
    "\r\n",
    "ind = np.random.randint(0, len(X), 5)\r\n",
    "fig, axes = plot_samples(X[ind], Y[ind], nrows=1, figsize=(10, 6))\r\n",
    "plt.show()"
   ]
  },
  {
   "cell_type": "code",
   "execution_count": 5,
   "metadata": {},
   "outputs": [],
   "source": [
    "modules = [\r\n",
    "    nn.Linear(400, 25),\r\n",
    "    nn.ReLU(),\r\n",
    "    nn.Linear(25, 10)\r\n",
    "]\r\n",
    "Classifyer = nn.Sequential(*modules)\r\n",
    "loss = nn.CrossEntropyLoss()"
   ]
  },
  {
   "cell_type": "code",
   "execution_count": null,
   "metadata": {},
   "outputs": [],
   "source": []
  }
 ],
 "metadata": {
  "interpreter": {
   "hash": "8c26090832ebf9ff17f8031894702e36aa01def6c43ec986e6aac576f8bc0f7d"
  },
  "kernelspec": {
   "display_name": "Python 3.8.8 64-bit ('sleep': conda)",
   "name": "python3"
  },
  "language_info": {
   "codemirror_mode": {
    "name": "ipython",
    "version": 3
   },
   "file_extension": ".py",
   "mimetype": "text/x-python",
   "name": "python",
   "nbconvert_exporter": "python",
   "pygments_lexer": "ipython3",
   "version": "3.8.8"
  },
  "orig_nbformat": 4
 },
 "nbformat": 4,
 "nbformat_minor": 2
}